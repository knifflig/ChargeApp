{
 "cells": [
  {
   "cell_type": "code",
   "execution_count": null,
   "metadata": {},
   "outputs": [],
   "source": [
    "import json\n",
    "from kreis_loader import get_kreise\n",
    "\n",
    "kreise = get_kreise(returnGeometry=True)\n",
    "\n",
    "with open(\"../kreise.json\", \"w\") as json_file:\n",
    "    json.dump(kreise, json_file)"
   ]
  },
  {
   "cell_type": "code",
   "execution_count": null,
   "metadata": {},
   "outputs": [],
   "source": [
    "from kreis_loader import get_envelope\n",
    "from stations_loader import stations_find, filter_stations\n",
    "from map_drawer import DrawMap as dm\n",
    "import json\n",
    "\n",
    "# Open the file for reading\n",
    "with open('../kreise.json', 'r') as json_file:\n",
    "    kreise = json.load(json_file)\n",
    "kreise\n",
    "\n",
    "# Create an instance of DrawMap\n",
    "dm = dm()\n",
    "\n",
    "\n",
    "flensburg = kreise[0]\n",
    "flens_map = dm.plot_regions(flensburg)\n",
    "\n",
    "polygon = flensburg[\"geometry\"]\n",
    "envelope = get_envelope(polygon)\n",
    "flens_map = dm.add_envelope(envelope)\n",
    "\n",
    "stations = stations_find(geometry = envelope)\n",
    "#flens_map = dm.add_stations(stations)\n",
    "\n",
    "stations_filtered = filter_stations(polygon, stations)\n",
    "flens_map = dm.add_stations(stations_filtered)\n",
    "\n",
    "flens_map"
   ]
  },
  {
   "cell_type": "code",
   "execution_count": null,
   "metadata": {},
   "outputs": [],
   "source": [
    "from kreis_loader import get_kreise, get_envelope\n",
    "from stations_loader import stations_find, filter_stations\n",
    "from map_drawer import DrawMap as dm\n",
    "import json\n",
    "\n",
    "kreise = get_kreise(returnGeometry=True)\n",
    "\n",
    "# Create an instance of DrawMap\n",
    "dm = dm()\n",
    "\n",
    "for kreis in kreise:\n",
    "    station_map = dm.plot_regions(kreis)\n",
    "\n",
    "    polygon = kreis.get(\"geometry\", None)  # Using get() to avoid KeyError\n",
    "    if polygon is not None:\n",
    "        # Compute the envelope and add it to the kreis\n",
    "        envelope = get_envelope(polygon)\n",
    "        kreis['envelope'] = envelope\n",
    "    \n",
    "    stations = stations_find(geometry = envelope)\n",
    "    kreis['stations'] = stations\n",
    "\n",
    "    stations_filtered = filter_stations(polygon, stations)\n",
    "    kreis['stations_filtered'] = stations_filtered\n",
    "    station_map = dm.add_stations(kreis[\"stations_filtered\"])\n",
    "\n",
    "with open(\"../kreise.json\", \"w\") as json_file:\n",
    "    json.dump(kreise, json_file)\n",
    "\n",
    "station_map"
   ]
  }
 ],
 "metadata": {
  "kernelspec": {
   "display_name": ".venv",
   "language": "python",
   "name": "python3"
  },
  "language_info": {
   "codemirror_mode": {
    "name": "ipython",
    "version": 3
   },
   "file_extension": ".py",
   "mimetype": "text/x-python",
   "name": "python",
   "nbconvert_exporter": "python",
   "pygments_lexer": "ipython3",
   "version": "3.10.13"
  },
  "orig_nbformat": 4
 },
 "nbformat": 4,
 "nbformat_minor": 2
}
