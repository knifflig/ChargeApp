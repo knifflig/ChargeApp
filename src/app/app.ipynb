{
 "cells": [
  {
   "cell_type": "code",
   "execution_count": null,
   "metadata": {},
   "outputs": [],
   "source": [
    "import json\n",
    "from kreis_loader import get_kreise\n",
    "\n",
    "kreise = get_kreise(returnGeometry=True)\n",
    "\n",
    "with open(\"../kreise.json\", \"w\") as json_file:\n",
    "    json.dump(kreise, json_file)"
   ]
  },
  {
   "cell_type": "code",
   "execution_count": null,
   "metadata": {},
   "outputs": [],
   "source": [
    "from kreis_loader import get_envelope\n",
    "from stations_loader import stations_find, filter_stations\n",
    "from map_drawer import DrawMap as dm\n",
    "import json\n",
    "\n",
    "# Open the file for reading\n",
    "with open('../kreise.json', 'r') as json_file:\n",
    "    kreise = json.load(json_file)\n",
    "\n",
    "# Create an instance of DrawMap\n",
    "dm = dm()\n",
    "\n",
    "flensburg = kreise[0]\n",
    "flens_map = dm.plot_regions(flensburg)\n",
    "\n",
    "polygon = flensburg[\"geometry\"]\n",
    "envelope = get_envelope(polygon)\n",
    "flens_map = dm.add_envelope(envelope)\n",
    "\n",
    "stations = stations_find(geometry = envelope)\n",
    "#flens_map = dm.add_stations(stations)\n",
    "\n",
    "stations_filtered = filter_stations(polygon, stations)\n",
    "flens_map = dm.add_stations(stations_filtered)\n",
    "\n",
    "flens_map"
   ]
  },
  {
   "cell_type": "code",
   "execution_count": null,
   "metadata": {},
   "outputs": [],
   "source": [
    "from kreis_loader import get_kreise, get_envelope\n",
    "from stations_loader import stations_find, filter_stations\n",
    "from map_drawer import DrawMap as dm\n",
    "import json\n",
    "\n",
    "kreise = get_kreise(returnGeometry=True)\n",
    "\n",
    "# Create an instance of DrawMap\n",
    "dm = dm()\n",
    "\n",
    "for kreis in kreise:\n",
    "    station_map = dm.plot_regions(kreis)\n",
    "\n",
    "    polygon = kreis.get(\"geometry\", None)  # Using get() to avoid KeyError\n",
    "    if polygon is not None:\n",
    "        # Compute the envelope and add it to the kreis\n",
    "        envelope = get_envelope(polygon)\n",
    "        kreis['envelope'] = envelope\n",
    "    \n",
    "    stations = stations_find(geometry = envelope)\n",
    "    kreis['stations'] = stations\n",
    "\n",
    "    stations_filtered = filter_stations(polygon, stations)\n",
    "    kreis['stations_filtered'] = stations_filtered\n",
    "    station_map = dm.add_stations(kreis[\"stations_filtered\"])\n",
    "\n",
    "with open(\"../kreise.json\", \"w\") as json_file:\n",
    "    json.dump(kreise, json_file)\n",
    "\n",
    "station_map"
   ]
  },
  {
   "cell_type": "code",
   "execution_count": 2,
   "metadata": {},
   "outputs": [
    {
     "ename": "NameError",
     "evalue": "name 'json' is not defined",
     "output_type": "error",
     "traceback": [
      "\u001b[0;31m---------------------------------------------------------------------------\u001b[0m",
      "\u001b[0;31mNameError\u001b[0m                                 Traceback (most recent call last)",
      "\u001b[1;32m/workspaces/python3-poetry-pyenv/src/app/app.ipynb Cell 4\u001b[0m line \u001b[0;36m3\n\u001b[1;32m      <a href='vscode-notebook-cell://dev-container%2B7b22766f6c756d654e616d65223a22707974686f6e332d706f657472792d7079656e76222c22666f6c646572223a22707974686f6e332d706f657472792d7079656e76222c2273657474696e6773223a7b22636f6e74657874223a226465736b746f702d6c696e7578227d7d/workspaces/python3-poetry-pyenv/src/app/app.ipynb#W3sdnNjb2RlLXJlbW90ZQ%3D%3D?line=0'>1</a>\u001b[0m \u001b[39m# Open the file for reading\u001b[39;00m\n\u001b[1;32m      <a href='vscode-notebook-cell://dev-container%2B7b22766f6c756d654e616d65223a22707974686f6e332d706f657472792d7079656e76222c22666f6c646572223a22707974686f6e332d706f657472792d7079656e76222c2273657474696e6773223a7b22636f6e74657874223a226465736b746f702d6c696e7578227d7d/workspaces/python3-poetry-pyenv/src/app/app.ipynb#W3sdnNjb2RlLXJlbW90ZQ%3D%3D?line=1'>2</a>\u001b[0m \u001b[39mwith\u001b[39;00m \u001b[39mopen\u001b[39m(\u001b[39m'\u001b[39m\u001b[39m../../kreise.json\u001b[39m\u001b[39m'\u001b[39m, \u001b[39m'\u001b[39m\u001b[39mr\u001b[39m\u001b[39m'\u001b[39m) \u001b[39mas\u001b[39;00m json_file:\n\u001b[0;32m----> <a href='vscode-notebook-cell://dev-container%2B7b22766f6c756d654e616d65223a22707974686f6e332d706f657472792d7079656e76222c22666f6c646572223a22707974686f6e332d706f657472792d7079656e76222c2273657474696e6773223a7b22636f6e74657874223a226465736b746f702d6c696e7578227d7d/workspaces/python3-poetry-pyenv/src/app/app.ipynb#W3sdnNjb2RlLXJlbW90ZQ%3D%3D?line=2'>3</a>\u001b[0m     kreise \u001b[39m=\u001b[39m json\u001b[39m.\u001b[39mload(json_file)\n",
      "\u001b[0;31mNameError\u001b[0m: name 'json' is not defined"
     ]
    }
   ],
   "source": [
    "# Open the file for reading\n",
    "with open('../../kreise.json', 'r') as json_file:\n",
    "    kreise = json.load(json_file)\n",
    "\n",
    "\n",
    "\n"
   ]
  }
 ],
 "metadata": {
  "kernelspec": {
   "display_name": ".venv",
   "language": "python",
   "name": "python3"
  },
  "language_info": {
   "codemirror_mode": {
    "name": "ipython",
    "version": 3
   },
   "file_extension": ".py",
   "mimetype": "text/x-python",
   "name": "python",
   "nbconvert_exporter": "python",
   "pygments_lexer": "ipython3",
   "version": "3.10.13"
  },
  "orig_nbformat": 4
 },
 "nbformat": 4,
 "nbformat_minor": 2
}
