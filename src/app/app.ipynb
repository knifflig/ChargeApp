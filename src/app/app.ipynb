{
 "cells": [
  {
   "cell_type": "code",
   "execution_count": null,
   "metadata": {},
   "outputs": [],
   "source": [
    "import json\n",
    "from kreis_loader import get_kreise\n",
    "\n",
    "kreise = get_kreise(returnGeometry=True)\n",
    "\n",
    "with open(\"../kreise.json\", \"w\") as json_file:\n",
    "    json.dump(kreise, json_file)"
   ]
  },
  {
   "cell_type": "code",
   "execution_count": null,
   "metadata": {},
   "outputs": [],
   "source": [
    "from kreis_loader import get_kreise, get_envelope\n",
    "from stations_loader import stations_find, filter_stations\n",
    "from map_drawer import DrawMap as dm\n",
    "import json\n",
    "\n",
    "kreise = get_kreise(returnGeometry=True)\n",
    "\n",
    "# Create an instance of DrawMap\n",
    "dm = dm()\n",
    "\n",
    "for kreis in kreise:\n",
    "    station_map = dm.plot_regions(kreis)\n",
    "\n",
    "    polygon = kreis.get(\"geometry\", None)  # Using get() to avoid KeyError\n",
    "    if polygon is not None:\n",
    "        # Compute the envelope and add it to the kreis\n",
    "        envelope = get_envelope(polygon)\n",
    "        kreis['envelope'] = envelope\n",
    "    \n",
    "    stations = stations_find(geometry = envelope)\n",
    "    kreis['stations'] = stations\n",
    "\n",
    "    stations_filtered = filter_stations(polygon, stations)\n",
    "    kreis['stations_filtered'] = stations_filtered\n",
    "    station_map = dm.add_stations(kreis[\"stations_filtered\"])\n",
    "\n",
    "with open(\"../kreise.json\", \"w\") as json_file:\n",
    "    json.dump(kreise, json_file)\n",
    "\n",
    "station_map"
   ]
  },
  {
   "cell_type": "code",
   "execution_count": 3,
   "metadata": {},
   "outputs": [],
   "source": [
    "import json\n",
    "\n",
    "# Open the file for reading\n",
    "with open('../../kreise.json', 'r') as json_file:\n",
    "    kreise = json.load(json_file)\n"
   ]
  },
  {
   "cell_type": "code",
   "execution_count": 18,
   "metadata": {},
   "outputs": [],
   "source": [
    "import pandas as pd\n",
    "from pandas import json_normalize\n",
    "\n",
    "def create_dataframe_from_object(single_object):\n",
    "    # Flattening the 'attributes', 'stations', and 'stations_filtered' fields\n",
    "    df_attributes = pd.json_normalize(single_object['attributes'])\n",
    "    df_stations = pd.json_normalize(single_object['stations'])\n",
    "    df_stations_filtered = pd.json_normalize(single_object['stations_filtered'])\n",
    "\n",
    "    # Aligning all DataFrames' indices before concatenating\n",
    "    #df_attributes.index = [0] * len(df_attributes)\n",
    "    #df_stations.index = [0] * len(df_stations)\n",
    "    #df_stations_filtered.index = [0] * len(df_stations_filtered)\n",
    "\n",
    "    # Concatenating all DataFrames horizontally\n",
    "    #df_combined = pd.concat([df_attributes\n",
    "                             #, [df_stations]\n",
    "                             #, df_stations_filtered\n",
    "                             #], axis=1)\n",
    "\n",
    "    return df_attributes, df_stations, df_stations_filtered\n",
    "\n",
    "df_attributes = create_dataframe_from_object(kreise[0])[0]\n",
    "df_stations = create_dataframe_from_object(kreise[0])[1]\n",
    "df_stations_filtered = create_dataframe_from_object(kreise[0])[2]"
   ]
  }
 ],
 "metadata": {
  "kernelspec": {
   "display_name": ".venv",
   "language": "python",
   "name": "python3"
  },
  "language_info": {
   "codemirror_mode": {
    "name": "ipython",
    "version": 3
   },
   "file_extension": ".py",
   "mimetype": "text/x-python",
   "name": "python",
   "nbconvert_exporter": "python",
   "pygments_lexer": "ipython3",
   "version": "3.10.13"
  },
  "orig_nbformat": 4
 },
 "nbformat": 4,
 "nbformat_minor": 2
}
