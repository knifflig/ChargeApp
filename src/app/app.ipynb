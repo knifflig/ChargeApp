{
 "cells": [
  {
   "cell_type": "markdown",
   "metadata": {},
   "source": [
    "## Introduction\n",
    "- A major part of energy system transformation is the transition of personal transport towards electric vehicles (EV)\n",
    "- Meanwhile this faces a classical chicken or egg problem as market acceptance is based on available (public) charging infrastructure while efficient allocation of resccources to those infrastructure depends on enough users [](https://doi.org/10.1016/j.retrec.2020.100837)\n",
    "- In Germany a great part of the populations have not the possiblity to install private charging devieces.\n",
    "- Lots of people dont life in houses with carport or garages and even if a major share does not own their living property\n",
    "- For making EV a viable alternative germany needs enough public charging stations\n",
    "\n",
    "## Charging infrastructure in germany\n",
    "- Gouverment see privat sector in charge to invest\n",
    "- at the moment about 80 to 90 thousand charging points\n",
    "- goal is 1 million until 2030 [](https://www.bundesregierung.de/breg-de/suche/ladepunkte-in-deutschland-1884666)\n",
    "- Therefore the gouverment provides financial support for investors [](https://www.bundesregierung.de/breg-de/suche/ladepunkte-in-deutschland-1884666)\n",
    "\n",
    "<-image here->\n",
    "## Growing demand\n",
    "- As this report by Roland Berger points out: While the energy transition proceeds more and more electric cars are on the roads \n",
    "- See image: The European light EV fleet should grow by 34% per year until 2050, reaching 227 million vehicles\n",
    "- At the same time numerous competitors try to find valubale business models to to match the growing demand of public infrastructure.\n",
    "- the main problem is here that EV drivers are (yet) highly unpredictable in their charging behaviors\n",
    "- The profitablity of charging stations depends highly on workload which is uneaven distributed [](https://doi.org/10.3390/wevj8040936)\n",
    "- Workload of german chargign stations is tracked in real time by the [Leitstelle Ladeinfrastruktur](https://nationale-leitstelle.de/verstehen/) (Charging infrastructure control centre) and ranges usually betwen 5% and 15%\n",
    "\n",
    "<-diagram here->\n",
    "## How to match the demand\n",
    "- for eficient ressource allocation well informed location determination is crucial\n",
    "- therefore we need:\n",
    "    + Predict the regional demand of public charging infrastructure based on:\n",
    "        - available charging stations\n",
    "        - private charging opportunities\n",
    "        - amount of cars\n",
    "        - traveled distances\n",
    "        - consumption per distance\n",
    "\n",
    "    + Predict usage behavior of different charger types based on small area factors:\n",
    "        - Traffic routes\n",
    "        - Traffic volatility\n",
    "        - length of stay\n",
    "        - housing structure\n",
    "        - periodic fluctuations\n",
    "\n"
   ]
  },
  {
   "cell_type": "markdown",
   "metadata": {},
   "source": [
    "<div class=\"image-container\">\n",
    "  <img src=\"../data/img/stuttgart_map.jpeg\" alt=\"Map of Flensburg\" class=\"center-image\" height=\"300\">\n",
    "  <img src=\"../data/img/frankfurt_map.jpeg\" alt=\"Map of Hamburg\" class=\"center-image\" height=\"300\">\n",
    "</div>\n",
    "\n",
    "<style>\n",
    ".image-container {\n",
    "  text-align: center;\n",
    "}\n",
    "\n",
    "/* or alternatively using flexbox */\n",
    ".image-container {\n",
    "  display: flex;\n",
    "  justify-content: center;\n",
    "}\n",
    "</style>"
   ]
  },
  {
   "cell_type": "markdown",
   "metadata": {},
   "source": [
    "## Predicting regional supply\n",
    "\n",
    "- The ladestation-api [](https://github.com/bundesAPI/ladestationen-api) provided by the german gouvernment provides at the moment 46,196 stations which is not the full sample but will be enough to provide major insight\n",
    "- differences become clear when we look at two cities which are in the same regional context but show completly different patterns\n",
    "- while in Stuttgart aproximatly 750 charging stations  available for there 600k inhabitants Frankfurt have only 222 for 750k citizen"
   ]
  }
 ],
 "metadata": {
  "kernelspec": {
   "display_name": ".venv",
   "language": "python",
   "name": "python3"
  },
  "language_info": {
   "codemirror_mode": {
    "name": "ipython",
    "version": 3
   },
   "file_extension": ".py",
   "mimetype": "text/x-python",
   "name": "python",
   "nbconvert_exporter": "python",
   "pygments_lexer": "ipython3",
   "version": "3.10.13"
  },
  "orig_nbformat": 4
 },
 "nbformat": 4,
 "nbformat_minor": 2
}
