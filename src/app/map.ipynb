{
 "cells": [
  {
   "cell_type": "code",
   "execution_count": null,
   "metadata": {},
   "outputs": [],
   "source": [
    "from ipyleaflet import Map\n",
    "\n",
    "# Initialize the map\n",
    "leaflet_map = Map(center=(51.1657, 10.4515), zoom=6)\n",
    "\n",
    "# Display the map\n",
    "leaflet_map"
   ]
  },
  {
   "cell_type": "code",
   "execution_count": null,
   "metadata": {},
   "outputs": [],
   "source": [
    "import json\n",
    "\n",
    "# Load the GeoJSON file\n",
    "with open('../data/kreise.geojson', 'r') as f:\n",
    "    kreise_geojson = json.load(f)\n"
   ]
  },
  {
   "cell_type": "code",
   "execution_count": null,
   "metadata": {},
   "outputs": [],
   "source": [
    "\n",
    "\n",
    "# Pre-process GeoJSON features to add tooltips and styles\n",
    "for feature in kreise_geojson['features']:\n",
    "    kreisid = feature['properties'].get('KREISID', 'N/A')\n",
    "    stations = feature['properties'].get('stations', 'N/A')\n",
    "    feature['properties']['popup'] = f\"KREISID: {kreisid}<br>Stations: {stations}\"\n",
    "    feature['properties']['style'] = {'color': 'blue', 'fillColor': '#3366cc', 'opacity': 0.5, 'weight': 1.9, 'dashArray': '2', 'fillOpacity': 0.2}\n",
    "\n",
    "\n",
    "print(kreise_geojson[\"features\"][0])\n",
    "\n",
    "\n"
   ]
  },
  {
   "cell_type": "code",
   "execution_count": null,
   "metadata": {},
   "outputs": [],
   "source": [
    "from ipyleaflet import GeoJSON\n",
    "\n",
    "geo_json_layer = GeoJSON(data=kreise_geojson,\n",
    "                         style={'opacity': 1,\n",
    "                                'dashArray': '9',\n",
    "                                'fillOpacity': 0.1,\n",
    "                                'weight': 1\n",
    "                                },\n",
    "                         hover_style={'color': 'red',\n",
    "                                      'dashArray': '0',\n",
    "                                      'fillOpacity': 0.5\n",
    "                                      }\n",
    "                                    )\n",
    "\n",
    "leaflet_map.add_layer(geo_json_layer)\n"
   ]
  },
  {
   "cell_type": "code",
   "execution_count": 17,
   "metadata": {},
   "outputs": [
    {
     "data": {
      "application/vnd.jupyter.widget-view+json": {
       "model_id": "58b3dc7b7a964df1ae48877dd99a960f",
       "version_major": 2,
       "version_minor": 0
      },
      "text/plain": [
       "Map(bottom=5298.0, center=[53.51418452077113, 11.930802797441784], controls=(ZoomControl(options=['position', …"
      ]
     },
     "execution_count": 17,
     "metadata": {},
     "output_type": "execute_result"
    }
   ],
   "source": [
    "leaflet_map"
   ]
  },
  {
   "cell_type": "code",
   "execution_count": null,
   "metadata": {},
   "outputs": [],
   "source": [
    "# Create GeoJSON layer\n",
    "geo_json_layer = GeoJSON(data=kreise_geojson,\n",
    "                         style={'opacity': 1, 'dashArray': '9', 'fillOpacity': 0.1, 'weight': 1},\n",
    "                         hover_style={'color': 'red', 'dashArray': '0', 'fillOpacity': 0.5})\n",
    "\n",
    "\n",
    "print(geo_json_layer)\n",
    "\n",
    "# Add the GeoJSON layer to the map\n",
    "#leaflet_map2 = leaflet_map.add_layer(geo_json_layer)\n",
    "\n",
    "# Display the map\n",
    "#leaflet_map2"
   ]
  },
  {
   "cell_type": "code",
   "execution_count": null,
   "metadata": {},
   "outputs": [],
   "source": [
    "from ipyleaflet import Map, GeoJSON\n",
    "import json\n",
    "\n",
    "# Load the GeoJSON file\n",
    "with open('../data/kreise.geojson', 'r') as f:\n",
    "    kreise_geojson = json.load(f)\n",
    "\n",
    "# Initialize the map\n",
    "leaflet_map = Map(center=(51.1657, 10.4515), zoom=6)\n",
    "\n",
    "# Create GeoJSON layer\n",
    "geo_json_layer = GeoJSON(data=kreise_geojson, name=\"KREISE\", \n",
    "                         style={'color': 'blue', 'fillColor': '#3366cc', 'opacity': 0.5, 'weight': 1.9, 'dashArray': '2', 'fillOpacity': 0.2},\n",
    "                         hover_style={'fillColor': 'red', 'fillOpacity': 0.2})\n",
    "\n",
    "# Adding tooltip to display KREISID and stations\n",
    "for feature in kreise_geojson['features']:\n",
    "    try:\n",
    "        kreisid = feature['properties']['KREISID']\n",
    "        stations = feature['properties']['stations']\n",
    "        feature['properties']['style'] = {'fillColor': '#ffcc00', 'fillOpacity': 0.5, 'color': 'blue'}\n",
    "        feature['properties']['popup'] = f\"KREISID: {kreisid}<br>Stations: {stations}\"\n",
    "    except Exception as e:\n",
    "        print(f\"An error occurred: {e}\")\n",
    "\n",
    "# Add the GeoJSON layer to the map\n",
    "leaflet_map.add_layer(geo_json_layer)\n",
    "\n",
    "# Display the map\n",
    "leaflet_map"
   ]
  }
 ],
 "metadata": {
  "kernelspec": {
   "display_name": ".venv",
   "language": "python",
   "name": "python3"
  },
  "language_info": {
   "codemirror_mode": {
    "name": "ipython",
    "version": 3
   },
   "file_extension": ".py",
   "mimetype": "text/x-python",
   "name": "python",
   "nbconvert_exporter": "python",
   "pygments_lexer": "ipython3",
   "version": "3.10.13"
  },
  "orig_nbformat": 4
 },
 "nbformat": 4,
 "nbformat_minor": 2
}
